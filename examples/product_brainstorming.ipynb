{
 "cells": [
  {
   "cell_type": "markdown",
   "metadata": {},
   "source": [
    "# Product Brinstorming\n",
    "\n",
    "Can we use TinyTroupe to brainstorm product ideas?"
   ]
  },
  {
   "cell_type": "code",
   "execution_count": 1,
   "metadata": {},
   "outputs": [
    {
     "name": "stdout",
     "output_type": "stream",
     "text": [
      "Looking for default config on: s:\\tinytroupe\\examples\\..\\tinytroupe\\utils\\..\\config.ini\n",
      "\n",
      "!!!!\n",
      "DISCLAIMER: TinyTroupe relies on Artificial Intelligence (AI) models to generate content. \n",
      "The AI models are not perfect and may produce inappropriate or inacurate results. \n",
      "For any serious or consequential use, please review the generated content before using it.\n",
      "!!!!\n",
      "\n",
      "\n",
      "=================================\n",
      "Current TinyTroupe configuration \n",
      "=================================\n",
      "[OpenAI]\n",
      "api_type = openai\n",
      "openai_api_key = \"ssssss\"\n",
      "openai_base_url = \"http://192.168.1.151:1234/v1\"\n",
      "azure_api_version = 2023-05-15\n",
      "model = gpt-4o\n",
      "max_tokens = 4000\n",
      "temperature = 1\n",
      "freq_penalty = 0.0\n",
      "presence_penalty = 0.0\n",
      "timeout = 60\n",
      "max_attempts = 5\n",
      "waiting_time = 1\n",
      "exponential_backoff_factor = 5\n",
      "embedding_model = nomic-embed-text\n",
      "cache_api_calls = False\n",
      "cache_file_name = openai_api_cache.pickle\n",
      "max_content_display_length = 1024\n",
      "\n",
      "[Simulation]\n",
      "rai_harmful_content_prevention = False\n",
      "rai_copyright_infringement_prevention = False\n",
      "\n",
      "[Logging]\n",
      "loglevel = ERROR\n",
      "\n"
     ]
    }
   ],
   "source": [
    "import json\n",
    "import sys\n",
    "sys.path.insert(0, '..')\n",
    "\n",
    "import tinytroupe\n",
    "from tinytroupe.agent import TinyPerson\n",
    "from tinytroupe.environment import TinyWorld, TinySocialNetwork\n",
    "from tinytroupe.examples import *"
   ]
  },
  {
   "cell_type": "code",
   "execution_count": 2,
   "metadata": {},
   "outputs": [],
   "source": [
    "world = TinyWorld(\"Focus group\", [create_lisa_the_data_scientist(), create_oscar_the_architect(), create_marcos_the_physician()])"
   ]
  },
  {
   "cell_type": "code",
   "execution_count": 3,
   "metadata": {},
   "outputs": [
    {
     "data": {
      "text/html": [
       "<pre style=\"margin:0px;;white-space:pre;overflow-x:auto;line-height:normal;font-family:Menlo,'DejaVu Sans Mono',consolas,'Courier New',monospace\"><span style=\"color: #00ffff; text-decoration-color: #00ffff; font-weight: bold; font-style: italic; text-decoration: underline\">USER</span><span style=\"color: #00ffff; text-decoration-color: #00ffff; font-weight: bold; font-style: italic\"> --&gt; </span><span style=\"color: #00ffff; text-decoration-color: #00ffff; font-weight: bold; font-style: italic; text-decoration: underline\">Lisa Carter</span><span style=\"color: #00ffff; text-decoration-color: #00ffff; font-weight: bold; font-style: italic\">: [CONVERSATION] </span>\n",
       "<span style=\"color: #00ffff; text-decoration-color: #00ffff; font-weight: bold; font-style: italic\">          &gt;                  Hello everyone! Let's start by introducing ourselves. What is your job</span>\n",
       "<span style=\"color: #00ffff; text-decoration-color: #00ffff; font-weight: bold; font-style: italic\">          &gt; and what are some major problems you face                  in your work? What are major</span>\n",
       "<span style=\"color: #00ffff; text-decoration-color: #00ffff; font-weight: bold; font-style: italic\">          &gt; challenges for your industry as a whole? Don't discuss solutions yet,</span>\n",
       "<span style=\"color: #00ffff; text-decoration-color: #00ffff; font-weight: bold; font-style: italic\">          &gt; just the problems you face.</span>\n",
       "</pre>\n"
      ],
      "text/plain": [
       "\u001b[1;3;4;38;5;51mUSER\u001b[0m\u001b[1;3;38;5;51m --> \u001b[0m\u001b[1;3;4;38;5;51mLisa Carter\u001b[0m\u001b[1;3;38;5;51m: \u001b[0m\u001b[1;3;38;5;51m[\u001b[0m\u001b[1;3;38;5;51mCONVERSATION\u001b[0m\u001b[1;3;38;5;51m]\u001b[0m\u001b[1;3;38;5;51m \u001b[0m\n",
       "\u001b[1;3;38;5;51m          >                  Hello everyone! Let's start by introducing ourselves. What is your job\u001b[0m\n",
       "\u001b[1;3;38;5;51m          > and what are some major problems you face                  in your work? What are major\u001b[0m\n",
       "\u001b[1;3;38;5;51m          > challenges for your industry as a whole? Don't discuss solutions yet,\u001b[0m\n",
       "\u001b[1;3;38;5;51m          > just the problems you face.\u001b[0m\n"
      ]
     },
     "metadata": {},
     "output_type": "display_data"
    },
    {
     "data": {
      "text/html": [
       "<pre style=\"margin:0px;;white-space:pre;overflow-x:auto;line-height:normal;font-family:Menlo,'DejaVu Sans Mono',consolas,'Courier New',monospace\"><span style=\"color: #00ffff; text-decoration-color: #00ffff; font-weight: bold; font-style: italic\">       + --&gt; </span><span style=\"color: #00ffff; text-decoration-color: #00ffff; font-weight: bold; font-style: italic; text-decoration: underline\">Oscar</span>\n",
       "</pre>\n"
      ],
      "text/plain": [
       "\u001b[1;3;38;5;51m       + --> \u001b[0m\u001b[1;3;4;38;5;51mOscar\u001b[0m\n"
      ]
     },
     "metadata": {},
     "output_type": "display_data"
    },
    {
     "data": {
      "text/html": [
       "<pre style=\"margin:0px;;white-space:pre;overflow-x:auto;line-height:normal;font-family:Menlo,'DejaVu Sans Mono',consolas,'Courier New',monospace\"><span style=\"color: #00ffff; text-decoration-color: #00ffff; font-weight: bold; font-style: italic\">       + --&gt; </span><span style=\"color: #00ffff; text-decoration-color: #00ffff; font-weight: bold; font-style: italic; text-decoration: underline\">Marcos Almeida</span>\n",
       "</pre>\n"
      ],
      "text/plain": [
       "\u001b[1;3;38;5;51m       + --> \u001b[0m\u001b[1;3;4;38;5;51mMarcos Almeida\u001b[0m\n"
      ]
     },
     "metadata": {},
     "output_type": "display_data"
    }
   ],
   "source": [
    "world.broadcast(\"\"\"\n",
    "                Hello everyone! Let's start by introducing ourselves. What is your job and what are some major problems you face \n",
    "                in your work? What are major challenges for your industry as a whole? Don't discuss solutions yet, \n",
    "                just the problems you face.\n",
    "                \"\"\")\n"
   ]
  },
  {
   "cell_type": "code",
   "execution_count": 4,
   "metadata": {},
   "outputs": [
    {
     "data": {
      "text/html": [
       "<pre style=\"margin:0px;;white-space:pre;overflow-x:auto;line-height:normal;font-family:Menlo,'DejaVu Sans Mono',consolas,'Courier New',monospace\"><span style=\"color: #00ff00; text-decoration-color: #00ff00\">───────────────────────────────────────────── </span>Focus group step <span style=\"color: #008080; text-decoration-color: #008080; font-weight: bold\">1</span> of <span style=\"color: #008080; text-decoration-color: #008080; font-weight: bold\">1</span><span style=\"color: #00ff00; text-decoration-color: #00ff00\"> ─────────────────────────────────────────────</span>\n",
       "</pre>\n"
      ],
      "text/plain": [
       "\u001b[92m───────────────────────────────────────────── \u001b[0mFocus group step \u001b[1;36m1\u001b[0m of \u001b[1;36m1\u001b[0m\u001b[92m ─────────────────────────────────────────────\u001b[0m\n"
      ]
     },
     "metadata": {},
     "output_type": "display_data"
    },
    {
     "name": "stderr",
     "output_type": "stream",
     "text": [
      "2025-03-27 03:32:00,120 - tinytroupe - ERROR - [1] Error: Connection error.\n",
      "2025-03-27 03:32:00,120 - tinytroupe - ERROR - [2] Error: 'stream'\n",
      "2025-03-27 03:32:00,120 - tinytroupe - ERROR - [3] Error: 'stream'\n",
      "2025-03-27 03:32:00,120 - tinytroupe - ERROR - [4] Error: 'stream'\n",
      "2025-03-27 03:32:00,124 - tinytroupe - ERROR - [5] Error: 'stream'\n",
      "2025-03-27 03:32:00,125 - tinytroupe - ERROR - Failed to get response after 5.0 attempts.\n",
      "2025-03-27 03:32:01,511 - tinytroupe - ERROR - [1] Error: Connection error.\n",
      "2025-03-27 03:32:01,511 - tinytroupe - ERROR - [2] Error: 'stream'\n",
      "2025-03-27 03:32:01,511 - tinytroupe - ERROR - [3] Error: 'stream'\n",
      "2025-03-27 03:32:01,511 - tinytroupe - ERROR - [4] Error: 'stream'\n",
      "2025-03-27 03:32:01,511 - tinytroupe - ERROR - [5] Error: 'stream'\n",
      "2025-03-27 03:32:01,515 - tinytroupe - ERROR - Failed to get response after 5.0 attempts.\n",
      "2025-03-27 03:32:02,810 - tinytroupe - ERROR - [1] Error: Connection error.\n",
      "2025-03-27 03:32:02,810 - tinytroupe - ERROR - [2] Error: 'stream'\n",
      "2025-03-27 03:32:02,813 - tinytroupe - ERROR - [3] Error: 'stream'\n",
      "2025-03-27 03:32:02,814 - tinytroupe - ERROR - [4] Error: 'stream'\n",
      "2025-03-27 03:32:02,814 - tinytroupe - ERROR - [5] Error: 'stream'\n",
      "2025-03-27 03:32:02,815 - tinytroupe - ERROR - Failed to get response after 5.0 attempts.\n",
      "2025-03-27 03:32:04,049 - tinytroupe - ERROR - [1] Error: Connection error.\n",
      "2025-03-27 03:32:04,052 - tinytroupe - ERROR - [2] Error: 'stream'\n",
      "2025-03-27 03:32:04,053 - tinytroupe - ERROR - [3] Error: 'stream'\n",
      "2025-03-27 03:32:04,053 - tinytroupe - ERROR - [4] Error: 'stream'\n",
      "2025-03-27 03:32:04,053 - tinytroupe - ERROR - [5] Error: 'stream'\n",
      "2025-03-27 03:32:04,053 - tinytroupe - ERROR - Failed to get response after 5.0 attempts.\n",
      "2025-03-27 03:32:05,483 - tinytroupe - ERROR - [1] Error: Connection error.\n",
      "2025-03-27 03:32:05,484 - tinytroupe - ERROR - [2] Error: 'stream'\n",
      "2025-03-27 03:32:05,486 - tinytroupe - ERROR - [3] Error: 'stream'\n",
      "2025-03-27 03:32:05,486 - tinytroupe - ERROR - [4] Error: 'stream'\n",
      "2025-03-27 03:32:05,488 - tinytroupe - ERROR - [5] Error: 'stream'\n",
      "2025-03-27 03:32:05,489 - tinytroupe - ERROR - Failed to get response after 5.0 attempts.\n"
     ]
    },
    {
     "ename": "TypeError",
     "evalue": "'NoneType' object is not subscriptable",
     "output_type": "error",
     "traceback": [
      "\u001b[1;31m---------------------------------------------------------------------------\u001b[0m",
      "\u001b[1;31mTypeError\u001b[0m                                 Traceback (most recent call last)",
      "Cell \u001b[1;32mIn[4], line 1\u001b[0m\n\u001b[1;32m----> 1\u001b[0m \u001b[43mworld\u001b[49m\u001b[38;5;241;43m.\u001b[39;49m\u001b[43mrun\u001b[49m\u001b[43m(\u001b[49m\u001b[38;5;241;43m1\u001b[39;49m\u001b[43m)\u001b[49m\n",
      "File \u001b[1;32ms:\\tinytroupe\\examples\\..\\tinytroupe\\control.py:553\u001b[0m, in \u001b[0;36mtransactional.<locals>.wrapper\u001b[1;34m(*args, **kwargs)\u001b[0m\n\u001b[0;32m    550\u001b[0m logger\u001b[38;5;241m.\u001b[39mdebug(\u001b[38;5;124mf\u001b[39m\u001b[38;5;124m\"\u001b[39m\u001b[38;5;124m-----------------------------------------> Transaction: \u001b[39m\u001b[38;5;132;01m{\u001b[39;00mfunc\u001b[38;5;241m.\u001b[39m\u001b[38;5;18m__name__\u001b[39m\u001b[38;5;132;01m}\u001b[39;00m\u001b[38;5;124m with args \u001b[39m\u001b[38;5;132;01m{\u001b[39;00margs[\u001b[38;5;241m1\u001b[39m:]\u001b[38;5;132;01m}\u001b[39;00m\u001b[38;5;124m and kwargs \u001b[39m\u001b[38;5;132;01m{\u001b[39;00mkwargs\u001b[38;5;132;01m}\u001b[39;00m\u001b[38;5;124m under simulation \u001b[39m\u001b[38;5;132;01m{\u001b[39;00mobj_sim_id\u001b[38;5;132;01m}\u001b[39;00m\u001b[38;5;124m.\u001b[39m\u001b[38;5;124m\"\u001b[39m)\n\u001b[0;32m    552\u001b[0m transaction \u001b[38;5;241m=\u001b[39m Transaction(obj_under_transaction, simulation, func, \u001b[38;5;241m*\u001b[39margs, \u001b[38;5;241m*\u001b[39m\u001b[38;5;241m*\u001b[39mkwargs)\n\u001b[1;32m--> 553\u001b[0m result \u001b[38;5;241m=\u001b[39m \u001b[43mtransaction\u001b[49m\u001b[38;5;241;43m.\u001b[39;49m\u001b[43mexecute\u001b[49m\u001b[43m(\u001b[49m\u001b[43m)\u001b[49m\n\u001b[0;32m    554\u001b[0m \u001b[38;5;28;01mreturn\u001b[39;00m result\n",
      "File \u001b[1;32ms:\\tinytroupe\\examples\\..\\tinytroupe\\control.py:435\u001b[0m, in \u001b[0;36mTransaction.execute\u001b[1;34m(self)\u001b[0m\n\u001b[0;32m    432\u001b[0m \u001b[38;5;66;03m# Transaction caching will only operate if there is a simulation and it is started\u001b[39;00m\n\u001b[0;32m    433\u001b[0m \u001b[38;5;28;01mif\u001b[39;00m \u001b[38;5;28mself\u001b[39m\u001b[38;5;241m.\u001b[39msimulation \u001b[38;5;129;01mis\u001b[39;00m \u001b[38;5;28;01mNone\u001b[39;00m \u001b[38;5;129;01mor\u001b[39;00m \u001b[38;5;28mself\u001b[39m\u001b[38;5;241m.\u001b[39msimulation\u001b[38;5;241m.\u001b[39mstatus \u001b[38;5;241m==\u001b[39m Simulation\u001b[38;5;241m.\u001b[39mSTATUS_STOPPED:\n\u001b[0;32m    434\u001b[0m     \u001b[38;5;66;03m# Compute the function and return it, no caching, since the simulation is not started\u001b[39;00m\n\u001b[1;32m--> 435\u001b[0m     output \u001b[38;5;241m=\u001b[39m \u001b[38;5;28mself\u001b[39m\u001b[38;5;241m.\u001b[39mfunction(\u001b[38;5;241m*\u001b[39m\u001b[38;5;28mself\u001b[39m\u001b[38;5;241m.\u001b[39margs, \u001b[38;5;241m*\u001b[39m\u001b[38;5;241m*\u001b[39m\u001b[38;5;28mself\u001b[39m\u001b[38;5;241m.\u001b[39mkwargs)\n\u001b[0;32m    437\u001b[0m \u001b[38;5;28;01melif\u001b[39;00m \u001b[38;5;28mself\u001b[39m\u001b[38;5;241m.\u001b[39msimulation\u001b[38;5;241m.\u001b[39mstatus \u001b[38;5;241m==\u001b[39m Simulation\u001b[38;5;241m.\u001b[39mSTATUS_STARTED:\n\u001b[0;32m    438\u001b[0m     \u001b[38;5;66;03m# Compute the event hash\u001b[39;00m\n\u001b[0;32m    439\u001b[0m     event_hash \u001b[38;5;241m=\u001b[39m \u001b[38;5;28mself\u001b[39m\u001b[38;5;241m.\u001b[39msimulation\u001b[38;5;241m.\u001b[39m_function_call_hash(\u001b[38;5;28mself\u001b[39m\u001b[38;5;241m.\u001b[39mfunction_name, \u001b[38;5;241m*\u001b[39m\u001b[38;5;28mself\u001b[39m\u001b[38;5;241m.\u001b[39margs, \u001b[38;5;241m*\u001b[39m\u001b[38;5;241m*\u001b[39m\u001b[38;5;28mself\u001b[39m\u001b[38;5;241m.\u001b[39mkwargs)\n",
      "File \u001b[1;32ms:\\tinytroupe\\examples\\..\\tinytroupe\\environment\\tiny_world.py:144\u001b[0m, in \u001b[0;36mTinyWorld.run\u001b[1;34m(self, steps, timedelta_per_step, return_actions)\u001b[0m\n\u001b[0;32m    141\u001b[0m     \u001b[38;5;28;01mif\u001b[39;00m TinyWorld\u001b[38;5;241m.\u001b[39mcommunication_display:\n\u001b[0;32m    142\u001b[0m         \u001b[38;5;28mself\u001b[39m\u001b[38;5;241m.\u001b[39m_display_step_communication(cur_step\u001b[38;5;241m=\u001b[39mi\u001b[38;5;241m+\u001b[39m\u001b[38;5;241m1\u001b[39m, total_steps\u001b[38;5;241m=\u001b[39msteps, timedelta_per_step\u001b[38;5;241m=\u001b[39mtimedelta_per_step)\n\u001b[1;32m--> 144\u001b[0m     agents_actions \u001b[38;5;241m=\u001b[39m \u001b[38;5;28;43mself\u001b[39;49m\u001b[38;5;241;43m.\u001b[39;49m\u001b[43m_step\u001b[49m\u001b[43m(\u001b[49m\u001b[43mtimedelta_per_step\u001b[49m\u001b[38;5;241;43m=\u001b[39;49m\u001b[43mtimedelta_per_step\u001b[49m\u001b[43m)\u001b[49m\n\u001b[0;32m    145\u001b[0m     agents_actions_over_time\u001b[38;5;241m.\u001b[39mappend(agents_actions)\n\u001b[0;32m    147\u001b[0m \u001b[38;5;28;01mif\u001b[39;00m return_actions:\n",
      "File \u001b[1;32ms:\\tinytroupe\\examples\\..\\tinytroupe\\control.py:553\u001b[0m, in \u001b[0;36mtransactional.<locals>.wrapper\u001b[1;34m(*args, **kwargs)\u001b[0m\n\u001b[0;32m    550\u001b[0m logger\u001b[38;5;241m.\u001b[39mdebug(\u001b[38;5;124mf\u001b[39m\u001b[38;5;124m\"\u001b[39m\u001b[38;5;124m-----------------------------------------> Transaction: \u001b[39m\u001b[38;5;132;01m{\u001b[39;00mfunc\u001b[38;5;241m.\u001b[39m\u001b[38;5;18m__name__\u001b[39m\u001b[38;5;132;01m}\u001b[39;00m\u001b[38;5;124m with args \u001b[39m\u001b[38;5;132;01m{\u001b[39;00margs[\u001b[38;5;241m1\u001b[39m:]\u001b[38;5;132;01m}\u001b[39;00m\u001b[38;5;124m and kwargs \u001b[39m\u001b[38;5;132;01m{\u001b[39;00mkwargs\u001b[38;5;132;01m}\u001b[39;00m\u001b[38;5;124m under simulation \u001b[39m\u001b[38;5;132;01m{\u001b[39;00mobj_sim_id\u001b[38;5;132;01m}\u001b[39;00m\u001b[38;5;124m.\u001b[39m\u001b[38;5;124m\"\u001b[39m)\n\u001b[0;32m    552\u001b[0m transaction \u001b[38;5;241m=\u001b[39m Transaction(obj_under_transaction, simulation, func, \u001b[38;5;241m*\u001b[39margs, \u001b[38;5;241m*\u001b[39m\u001b[38;5;241m*\u001b[39mkwargs)\n\u001b[1;32m--> 553\u001b[0m result \u001b[38;5;241m=\u001b[39m \u001b[43mtransaction\u001b[49m\u001b[38;5;241;43m.\u001b[39;49m\u001b[43mexecute\u001b[49m\u001b[43m(\u001b[49m\u001b[43m)\u001b[49m\n\u001b[0;32m    554\u001b[0m \u001b[38;5;28;01mreturn\u001b[39;00m result\n",
      "File \u001b[1;32ms:\\tinytroupe\\examples\\..\\tinytroupe\\control.py:435\u001b[0m, in \u001b[0;36mTransaction.execute\u001b[1;34m(self)\u001b[0m\n\u001b[0;32m    432\u001b[0m \u001b[38;5;66;03m# Transaction caching will only operate if there is a simulation and it is started\u001b[39;00m\n\u001b[0;32m    433\u001b[0m \u001b[38;5;28;01mif\u001b[39;00m \u001b[38;5;28mself\u001b[39m\u001b[38;5;241m.\u001b[39msimulation \u001b[38;5;129;01mis\u001b[39;00m \u001b[38;5;28;01mNone\u001b[39;00m \u001b[38;5;129;01mor\u001b[39;00m \u001b[38;5;28mself\u001b[39m\u001b[38;5;241m.\u001b[39msimulation\u001b[38;5;241m.\u001b[39mstatus \u001b[38;5;241m==\u001b[39m Simulation\u001b[38;5;241m.\u001b[39mSTATUS_STOPPED:\n\u001b[0;32m    434\u001b[0m     \u001b[38;5;66;03m# Compute the function and return it, no caching, since the simulation is not started\u001b[39;00m\n\u001b[1;32m--> 435\u001b[0m     output \u001b[38;5;241m=\u001b[39m \u001b[38;5;28mself\u001b[39m\u001b[38;5;241m.\u001b[39mfunction(\u001b[38;5;241m*\u001b[39m\u001b[38;5;28mself\u001b[39m\u001b[38;5;241m.\u001b[39margs, \u001b[38;5;241m*\u001b[39m\u001b[38;5;241m*\u001b[39m\u001b[38;5;28mself\u001b[39m\u001b[38;5;241m.\u001b[39mkwargs)\n\u001b[0;32m    437\u001b[0m \u001b[38;5;28;01melif\u001b[39;00m \u001b[38;5;28mself\u001b[39m\u001b[38;5;241m.\u001b[39msimulation\u001b[38;5;241m.\u001b[39mstatus \u001b[38;5;241m==\u001b[39m Simulation\u001b[38;5;241m.\u001b[39mSTATUS_STARTED:\n\u001b[0;32m    438\u001b[0m     \u001b[38;5;66;03m# Compute the event hash\u001b[39;00m\n\u001b[0;32m    439\u001b[0m     event_hash \u001b[38;5;241m=\u001b[39m \u001b[38;5;28mself\u001b[39m\u001b[38;5;241m.\u001b[39msimulation\u001b[38;5;241m.\u001b[39m_function_call_hash(\u001b[38;5;28mself\u001b[39m\u001b[38;5;241m.\u001b[39mfunction_name, \u001b[38;5;241m*\u001b[39m\u001b[38;5;28mself\u001b[39m\u001b[38;5;241m.\u001b[39margs, \u001b[38;5;241m*\u001b[39m\u001b[38;5;241m*\u001b[39m\u001b[38;5;28mself\u001b[39m\u001b[38;5;241m.\u001b[39mkwargs)\n",
      "File \u001b[1;32ms:\\tinytroupe\\examples\\..\\tinytroupe\\environment\\tiny_world.py:103\u001b[0m, in \u001b[0;36mTinyWorld._step\u001b[1;34m(self, timedelta_per_step)\u001b[0m\n\u001b[0;32m    101\u001b[0m \u001b[38;5;28;01mfor\u001b[39;00m agent \u001b[38;5;129;01min\u001b[39;00m \u001b[38;5;28mself\u001b[39m\u001b[38;5;241m.\u001b[39magents:\n\u001b[0;32m    102\u001b[0m     logger\u001b[38;5;241m.\u001b[39mdebug(\u001b[38;5;124mf\u001b[39m\u001b[38;5;124m\"\u001b[39m\u001b[38;5;124m[\u001b[39m\u001b[38;5;132;01m{\u001b[39;00m\u001b[38;5;28mself\u001b[39m\u001b[38;5;241m.\u001b[39mname\u001b[38;5;132;01m}\u001b[39;00m\u001b[38;5;124m] Agent \u001b[39m\u001b[38;5;132;01m{\u001b[39;00mname_or_empty(agent)\u001b[38;5;132;01m}\u001b[39;00m\u001b[38;5;124m is acting.\u001b[39m\u001b[38;5;124m\"\u001b[39m)\n\u001b[1;32m--> 103\u001b[0m     actions \u001b[38;5;241m=\u001b[39m \u001b[43magent\u001b[49m\u001b[38;5;241;43m.\u001b[39;49m\u001b[43mact\u001b[49m\u001b[43m(\u001b[49m\u001b[43mreturn_actions\u001b[49m\u001b[38;5;241;43m=\u001b[39;49m\u001b[38;5;28;43;01mTrue\u001b[39;49;00m\u001b[43m)\u001b[49m\n\u001b[0;32m    104\u001b[0m     agents_actions[agent\u001b[38;5;241m.\u001b[39mname] \u001b[38;5;241m=\u001b[39m actions\n\u001b[0;32m    106\u001b[0m     \u001b[38;5;28mself\u001b[39m\u001b[38;5;241m.\u001b[39m_handle_actions(agent, agent\u001b[38;5;241m.\u001b[39mpop_latest_actions())\n",
      "File \u001b[1;32ms:\\tinytroupe\\examples\\..\\tinytroupe\\control.py:553\u001b[0m, in \u001b[0;36mtransactional.<locals>.wrapper\u001b[1;34m(*args, **kwargs)\u001b[0m\n\u001b[0;32m    550\u001b[0m logger\u001b[38;5;241m.\u001b[39mdebug(\u001b[38;5;124mf\u001b[39m\u001b[38;5;124m\"\u001b[39m\u001b[38;5;124m-----------------------------------------> Transaction: \u001b[39m\u001b[38;5;132;01m{\u001b[39;00mfunc\u001b[38;5;241m.\u001b[39m\u001b[38;5;18m__name__\u001b[39m\u001b[38;5;132;01m}\u001b[39;00m\u001b[38;5;124m with args \u001b[39m\u001b[38;5;132;01m{\u001b[39;00margs[\u001b[38;5;241m1\u001b[39m:]\u001b[38;5;132;01m}\u001b[39;00m\u001b[38;5;124m and kwargs \u001b[39m\u001b[38;5;132;01m{\u001b[39;00mkwargs\u001b[38;5;132;01m}\u001b[39;00m\u001b[38;5;124m under simulation \u001b[39m\u001b[38;5;132;01m{\u001b[39;00mobj_sim_id\u001b[38;5;132;01m}\u001b[39;00m\u001b[38;5;124m.\u001b[39m\u001b[38;5;124m\"\u001b[39m)\n\u001b[0;32m    552\u001b[0m transaction \u001b[38;5;241m=\u001b[39m Transaction(obj_under_transaction, simulation, func, \u001b[38;5;241m*\u001b[39margs, \u001b[38;5;241m*\u001b[39m\u001b[38;5;241m*\u001b[39mkwargs)\n\u001b[1;32m--> 553\u001b[0m result \u001b[38;5;241m=\u001b[39m \u001b[43mtransaction\u001b[49m\u001b[38;5;241;43m.\u001b[39;49m\u001b[43mexecute\u001b[49m\u001b[43m(\u001b[49m\u001b[43m)\u001b[49m\n\u001b[0;32m    554\u001b[0m \u001b[38;5;28;01mreturn\u001b[39;00m result\n",
      "File \u001b[1;32ms:\\tinytroupe\\examples\\..\\tinytroupe\\control.py:435\u001b[0m, in \u001b[0;36mTransaction.execute\u001b[1;34m(self)\u001b[0m\n\u001b[0;32m    432\u001b[0m \u001b[38;5;66;03m# Transaction caching will only operate if there is a simulation and it is started\u001b[39;00m\n\u001b[0;32m    433\u001b[0m \u001b[38;5;28;01mif\u001b[39;00m \u001b[38;5;28mself\u001b[39m\u001b[38;5;241m.\u001b[39msimulation \u001b[38;5;129;01mis\u001b[39;00m \u001b[38;5;28;01mNone\u001b[39;00m \u001b[38;5;129;01mor\u001b[39;00m \u001b[38;5;28mself\u001b[39m\u001b[38;5;241m.\u001b[39msimulation\u001b[38;5;241m.\u001b[39mstatus \u001b[38;5;241m==\u001b[39m Simulation\u001b[38;5;241m.\u001b[39mSTATUS_STOPPED:\n\u001b[0;32m    434\u001b[0m     \u001b[38;5;66;03m# Compute the function and return it, no caching, since the simulation is not started\u001b[39;00m\n\u001b[1;32m--> 435\u001b[0m     output \u001b[38;5;241m=\u001b[39m \u001b[38;5;28mself\u001b[39m\u001b[38;5;241m.\u001b[39mfunction(\u001b[38;5;241m*\u001b[39m\u001b[38;5;28mself\u001b[39m\u001b[38;5;241m.\u001b[39margs, \u001b[38;5;241m*\u001b[39m\u001b[38;5;241m*\u001b[39m\u001b[38;5;28mself\u001b[39m\u001b[38;5;241m.\u001b[39mkwargs)\n\u001b[0;32m    437\u001b[0m \u001b[38;5;28;01melif\u001b[39;00m \u001b[38;5;28mself\u001b[39m\u001b[38;5;241m.\u001b[39msimulation\u001b[38;5;241m.\u001b[39mstatus \u001b[38;5;241m==\u001b[39m Simulation\u001b[38;5;241m.\u001b[39mSTATUS_STARTED:\n\u001b[0;32m    438\u001b[0m     \u001b[38;5;66;03m# Compute the event hash\u001b[39;00m\n\u001b[0;32m    439\u001b[0m     event_hash \u001b[38;5;241m=\u001b[39m \u001b[38;5;28mself\u001b[39m\u001b[38;5;241m.\u001b[39msimulation\u001b[38;5;241m.\u001b[39m_function_call_hash(\u001b[38;5;28mself\u001b[39m\u001b[38;5;241m.\u001b[39mfunction_name, \u001b[38;5;241m*\u001b[39m\u001b[38;5;28mself\u001b[39m\u001b[38;5;241m.\u001b[39margs, \u001b[38;5;241m*\u001b[39m\u001b[38;5;241m*\u001b[39m\u001b[38;5;28mself\u001b[39m\u001b[38;5;241m.\u001b[39mkwargs)\n",
      "File \u001b[1;32ms:\\tinytroupe\\examples\\..\\tinytroupe\\agent\\tiny_person.py:506\u001b[0m, in \u001b[0;36mTinyPerson.act\u001b[1;34m(self, until_done, n, return_actions, max_content_length)\u001b[0m\n\u001b[0;32m    503\u001b[0m                 \u001b[38;5;28;01mbreak\u001b[39;00m\n\u001b[0;32m    505\u001b[0m         aux_pre_act()\n\u001b[1;32m--> 506\u001b[0m         \u001b[43maux_act_once\u001b[49m\u001b[43m(\u001b[49m\u001b[43m)\u001b[49m\n\u001b[0;32m    508\u001b[0m \u001b[38;5;28;01mif\u001b[39;00m return_actions:\n\u001b[0;32m    509\u001b[0m     \u001b[38;5;28;01mreturn\u001b[39;00m contents\n",
      "File \u001b[1;32ms:\\tinytroupe\\examples\\..\\tinytroupe\\utils\\llm.py:156\u001b[0m, in \u001b[0;36mrepeat_on_error.<locals>.decorator.<locals>.wrapper\u001b[1;34m(*args, **kwargs)\u001b[0m\n\u001b[0;32m    154\u001b[0m logger\u001b[38;5;241m.\u001b[39mdebug(\u001b[38;5;124mf\u001b[39m\u001b[38;5;124m\"\u001b[39m\u001b[38;5;124mException occurred: \u001b[39m\u001b[38;5;132;01m{\u001b[39;00me\u001b[38;5;132;01m}\u001b[39;00m\u001b[38;5;124m\"\u001b[39m)\n\u001b[0;32m    155\u001b[0m \u001b[38;5;28;01mif\u001b[39;00m i \u001b[38;5;241m==\u001b[39m retries \u001b[38;5;241m-\u001b[39m \u001b[38;5;241m1\u001b[39m:\n\u001b[1;32m--> 156\u001b[0m     \u001b[38;5;28;01mraise\u001b[39;00m e\n\u001b[0;32m    157\u001b[0m \u001b[38;5;28;01melse\u001b[39;00m:\n\u001b[0;32m    158\u001b[0m     logger\u001b[38;5;241m.\u001b[39mdebug(\u001b[38;5;124mf\u001b[39m\u001b[38;5;124m\"\u001b[39m\u001b[38;5;124mRetrying (\u001b[39m\u001b[38;5;132;01m{\u001b[39;00mi\u001b[38;5;241m+\u001b[39m\u001b[38;5;241m1\u001b[39m\u001b[38;5;132;01m}\u001b[39;00m\u001b[38;5;124m/\u001b[39m\u001b[38;5;132;01m{\u001b[39;00mretries\u001b[38;5;132;01m}\u001b[39;00m\u001b[38;5;124m)...\u001b[39m\u001b[38;5;124m\"\u001b[39m)\n",
      "File \u001b[1;32ms:\\tinytroupe\\examples\\..\\tinytroupe\\utils\\llm.py:152\u001b[0m, in \u001b[0;36mrepeat_on_error.<locals>.decorator.<locals>.wrapper\u001b[1;34m(*args, **kwargs)\u001b[0m\n\u001b[0;32m    150\u001b[0m \u001b[38;5;28;01mfor\u001b[39;00m i \u001b[38;5;129;01min\u001b[39;00m \u001b[38;5;28mrange\u001b[39m(retries):\n\u001b[0;32m    151\u001b[0m     \u001b[38;5;28;01mtry\u001b[39;00m:\n\u001b[1;32m--> 152\u001b[0m         \u001b[38;5;28;01mreturn\u001b[39;00m func(\u001b[38;5;241m*\u001b[39margs, \u001b[38;5;241m*\u001b[39m\u001b[38;5;241m*\u001b[39mkwargs)\n\u001b[0;32m    153\u001b[0m     \u001b[38;5;28;01mexcept\u001b[39;00m \u001b[38;5;28mtuple\u001b[39m(exceptions) \u001b[38;5;28;01mas\u001b[39;00m e:\n\u001b[0;32m    154\u001b[0m         logger\u001b[38;5;241m.\u001b[39mdebug(\u001b[38;5;124mf\u001b[39m\u001b[38;5;124m\"\u001b[39m\u001b[38;5;124mException occurred: \u001b[39m\u001b[38;5;132;01m{\u001b[39;00me\u001b[38;5;132;01m}\u001b[39;00m\u001b[38;5;124m\"\u001b[39m)\n",
      "File \u001b[1;32ms:\\tinytroupe\\examples\\..\\tinytroupe\\agent\\tiny_person.py:446\u001b[0m, in \u001b[0;36mTinyPerson.act.<locals>.aux_act_once\u001b[1;34m()\u001b[0m\n\u001b[0;32m    444\u001b[0m \u001b[38;5;129m@repeat_on_error\u001b[39m(retries\u001b[38;5;241m=\u001b[39m\u001b[38;5;241m5\u001b[39m, exceptions\u001b[38;5;241m=\u001b[39m[\u001b[38;5;167;01mKeyError\u001b[39;00m, \u001b[38;5;167;01mTypeError\u001b[39;00m])\n\u001b[0;32m    445\u001b[0m \u001b[38;5;28;01mdef\u001b[39;00m\u001b[38;5;250m \u001b[39m\u001b[38;5;21maux_act_once\u001b[39m():\n\u001b[1;32m--> 446\u001b[0m     role, content \u001b[38;5;241m=\u001b[39m \u001b[38;5;28;43mself\u001b[39;49m\u001b[38;5;241;43m.\u001b[39;49m\u001b[43m_produce_message\u001b[49m\u001b[43m(\u001b[49m\u001b[43m)\u001b[49m\n\u001b[0;32m    448\u001b[0m     cognitive_state \u001b[38;5;241m=\u001b[39m content[\u001b[38;5;124m\"\u001b[39m\u001b[38;5;124mcognitive_state\u001b[39m\u001b[38;5;124m\"\u001b[39m]\n\u001b[0;32m    451\u001b[0m     action \u001b[38;5;241m=\u001b[39m content[\u001b[38;5;124m'\u001b[39m\u001b[38;5;124maction\u001b[39m\u001b[38;5;124m'\u001b[39m]\n",
      "File \u001b[1;32ms:\\tinytroupe\\examples\\..\\tinytroupe\\control.py:553\u001b[0m, in \u001b[0;36mtransactional.<locals>.wrapper\u001b[1;34m(*args, **kwargs)\u001b[0m\n\u001b[0;32m    550\u001b[0m logger\u001b[38;5;241m.\u001b[39mdebug(\u001b[38;5;124mf\u001b[39m\u001b[38;5;124m\"\u001b[39m\u001b[38;5;124m-----------------------------------------> Transaction: \u001b[39m\u001b[38;5;132;01m{\u001b[39;00mfunc\u001b[38;5;241m.\u001b[39m\u001b[38;5;18m__name__\u001b[39m\u001b[38;5;132;01m}\u001b[39;00m\u001b[38;5;124m with args \u001b[39m\u001b[38;5;132;01m{\u001b[39;00margs[\u001b[38;5;241m1\u001b[39m:]\u001b[38;5;132;01m}\u001b[39;00m\u001b[38;5;124m and kwargs \u001b[39m\u001b[38;5;132;01m{\u001b[39;00mkwargs\u001b[38;5;132;01m}\u001b[39;00m\u001b[38;5;124m under simulation \u001b[39m\u001b[38;5;132;01m{\u001b[39;00mobj_sim_id\u001b[38;5;132;01m}\u001b[39;00m\u001b[38;5;124m.\u001b[39m\u001b[38;5;124m\"\u001b[39m)\n\u001b[0;32m    552\u001b[0m transaction \u001b[38;5;241m=\u001b[39m Transaction(obj_under_transaction, simulation, func, \u001b[38;5;241m*\u001b[39margs, \u001b[38;5;241m*\u001b[39m\u001b[38;5;241m*\u001b[39mkwargs)\n\u001b[1;32m--> 553\u001b[0m result \u001b[38;5;241m=\u001b[39m \u001b[43mtransaction\u001b[49m\u001b[38;5;241;43m.\u001b[39;49m\u001b[43mexecute\u001b[49m\u001b[43m(\u001b[49m\u001b[43m)\u001b[49m\n\u001b[0;32m    554\u001b[0m \u001b[38;5;28;01mreturn\u001b[39;00m result\n",
      "File \u001b[1;32ms:\\tinytroupe\\examples\\..\\tinytroupe\\control.py:435\u001b[0m, in \u001b[0;36mTransaction.execute\u001b[1;34m(self)\u001b[0m\n\u001b[0;32m    432\u001b[0m \u001b[38;5;66;03m# Transaction caching will only operate if there is a simulation and it is started\u001b[39;00m\n\u001b[0;32m    433\u001b[0m \u001b[38;5;28;01mif\u001b[39;00m \u001b[38;5;28mself\u001b[39m\u001b[38;5;241m.\u001b[39msimulation \u001b[38;5;129;01mis\u001b[39;00m \u001b[38;5;28;01mNone\u001b[39;00m \u001b[38;5;129;01mor\u001b[39;00m \u001b[38;5;28mself\u001b[39m\u001b[38;5;241m.\u001b[39msimulation\u001b[38;5;241m.\u001b[39mstatus \u001b[38;5;241m==\u001b[39m Simulation\u001b[38;5;241m.\u001b[39mSTATUS_STOPPED:\n\u001b[0;32m    434\u001b[0m     \u001b[38;5;66;03m# Compute the function and return it, no caching, since the simulation is not started\u001b[39;00m\n\u001b[1;32m--> 435\u001b[0m     output \u001b[38;5;241m=\u001b[39m \u001b[38;5;28mself\u001b[39m\u001b[38;5;241m.\u001b[39mfunction(\u001b[38;5;241m*\u001b[39m\u001b[38;5;28mself\u001b[39m\u001b[38;5;241m.\u001b[39margs, \u001b[38;5;241m*\u001b[39m\u001b[38;5;241m*\u001b[39m\u001b[38;5;28mself\u001b[39m\u001b[38;5;241m.\u001b[39mkwargs)\n\u001b[0;32m    437\u001b[0m \u001b[38;5;28;01melif\u001b[39;00m \u001b[38;5;28mself\u001b[39m\u001b[38;5;241m.\u001b[39msimulation\u001b[38;5;241m.\u001b[39mstatus \u001b[38;5;241m==\u001b[39m Simulation\u001b[38;5;241m.\u001b[39mSTATUS_STARTED:\n\u001b[0;32m    438\u001b[0m     \u001b[38;5;66;03m# Compute the event hash\u001b[39;00m\n\u001b[0;32m    439\u001b[0m     event_hash \u001b[38;5;241m=\u001b[39m \u001b[38;5;28mself\u001b[39m\u001b[38;5;241m.\u001b[39msimulation\u001b[38;5;241m.\u001b[39m_function_call_hash(\u001b[38;5;28mself\u001b[39m\u001b[38;5;241m.\u001b[39mfunction_name, \u001b[38;5;241m*\u001b[39m\u001b[38;5;28mself\u001b[39m\u001b[38;5;241m.\u001b[39margs, \u001b[38;5;241m*\u001b[39m\u001b[38;5;241m*\u001b[39m\u001b[38;5;28mself\u001b[39m\u001b[38;5;241m.\u001b[39mkwargs)\n",
      "File \u001b[1;32ms:\\tinytroupe\\examples\\..\\tinytroupe\\agent\\tiny_person.py:791\u001b[0m, in \u001b[0;36mTinyPerson._produce_message\u001b[1;34m(self)\u001b[0m\n\u001b[0;32m    787\u001b[0m next_message \u001b[38;5;241m=\u001b[39m openai_utils\u001b[38;5;241m.\u001b[39mclient()\u001b[38;5;241m.\u001b[39msend_message(messages, response_format\u001b[38;5;241m=\u001b[39mCognitiveActionModel)\n\u001b[0;32m    789\u001b[0m logger\u001b[38;5;241m.\u001b[39mdebug(\u001b[38;5;124mf\u001b[39m\u001b[38;5;124m\"\u001b[39m\u001b[38;5;124m[\u001b[39m\u001b[38;5;132;01m{\u001b[39;00m\u001b[38;5;28mself\u001b[39m\u001b[38;5;241m.\u001b[39mname\u001b[38;5;132;01m}\u001b[39;00m\u001b[38;5;124m] Received message: \u001b[39m\u001b[38;5;132;01m{\u001b[39;00mnext_message\u001b[38;5;132;01m}\u001b[39;00m\u001b[38;5;124m\"\u001b[39m)\n\u001b[1;32m--> 791\u001b[0m \u001b[38;5;28;01mreturn\u001b[39;00m \u001b[43mnext_message\u001b[49m\u001b[43m[\u001b[49m\u001b[38;5;124;43m\"\u001b[39;49m\u001b[38;5;124;43mrole\u001b[39;49m\u001b[38;5;124;43m\"\u001b[39;49m\u001b[43m]\u001b[49m, utils\u001b[38;5;241m.\u001b[39mextract_json(next_message[\u001b[38;5;124m\"\u001b[39m\u001b[38;5;124mcontent\u001b[39m\u001b[38;5;124m\"\u001b[39m])\n",
      "\u001b[1;31mTypeError\u001b[0m: 'NoneType' object is not subscriptable"
     ]
    }
   ],
   "source": [
    "world.run(1)"
   ]
  },
  {
   "cell_type": "code",
   "execution_count": null,
   "metadata": {},
   "outputs": [],
   "source": [
    "world.broadcast(\"\"\"\n",
    "                Folks, your mission is to brainstorm potential AI feature ideas\n",
    "                to add to Microsoft Word. In general, we want features that make you or your industry more productive,\n",
    "                taking advantage of all the latest AI technologies. Think about the problems you described - what could help with them? \n",
    "                Avoid obvious ideas, like summarization or translation. Also avoid simple things like minor UI improvements. \n",
    "                We want to think big here - you can fully reimagine Word if that's what it takes. \n",
    "                Do not worry about implementation details, marketing, or any other business considerations. \n",
    "                Just focus on the AI feature ideas themselves. Select and develop the most promising ideas.\n",
    "                    \n",
    "                Please start the discussion now.\n",
    "                \"\"\")"
   ]
  },
  {
   "cell_type": "code",
   "execution_count": null,
   "metadata": {},
   "outputs": [],
   "source": [
    "world.run(4)"
   ]
  },
  {
   "cell_type": "code",
   "execution_count": null,
   "metadata": {},
   "outputs": [],
   "source": [
    "world.broadcast(\"\"\"\n",
    "                Ok, great. Now please add more details to these ideas - we need to understand them better. How would they actually integrate with Word? \n",
    "                Can you provide some concrete examples of what customers could do?\n",
    "                \"\"\")"
   ]
  },
  {
   "cell_type": "code",
   "execution_count": null,
   "metadata": {},
   "outputs": [],
   "source": [
    "world.run(2)"
   ]
  },
  {
   "cell_type": "code",
   "execution_count": null,
   "metadata": {},
   "outputs": [],
   "source": [
    "rapporteur = world.get_agent_by_name(\"Lisa Carter\")"
   ]
  },
  {
   "cell_type": "code",
   "execution_count": null,
   "metadata": {},
   "outputs": [],
   "source": [
    "rapporteur.listen_and_act(\"Can you please consolidate the ideas that the group came up with? Provide a lot of details on each idea, and complement anything missing.\")"
   ]
  },
  {
   "cell_type": "code",
   "execution_count": null,
   "metadata": {},
   "outputs": [],
   "source": [
    "from tinytroupe.extraction import ResultsExtractor\n",
    "\n",
    "extractor = ResultsExtractor()\n",
    "\n",
    "extractor.extract_results_from_agent(rapporteur, \n",
    "                          extraction_objective=\"Consolidates the ideas that the group came up with, explaining each idea as an item of a list.\" \\\n",
    "                                               \"Add all relevant details, including key benefits and drawbacks, if any.\", \n",
    "                          situation=\"A focus group to brainstorm AI feature ideas for Microsoft Word.\")"
   ]
  },
  {
   "cell_type": "code",
   "execution_count": null,
   "metadata": {},
   "outputs": [],
   "source": []
  }
 ],
 "metadata": {
  "kernelspec": {
   "display_name": "tinytroupe",
   "language": "python",
   "name": "python3"
  },
  "language_info": {
   "codemirror_mode": {
    "name": "ipython",
    "version": 3
   },
   "file_extension": ".py",
   "mimetype": "text/x-python",
   "name": "python",
   "nbconvert_exporter": "python",
   "pygments_lexer": "ipython3",
   "version": "3.10.16"
  },
  "orig_nbformat": 4
 },
 "nbformat": 4,
 "nbformat_minor": 2
}
